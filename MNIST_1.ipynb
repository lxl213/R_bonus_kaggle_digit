{
 "cells": [
  {
   "cell_type": "code",
   "execution_count": 3,
   "metadata": {
    "ExecuteTime": {
     "end_time": "2020-12-16T04:34:42.954606Z",
     "start_time": "2020-12-16T04:34:37.070649Z"
    }
   },
   "outputs": [
    {
     "name": "stdout",
     "output_type": "stream",
     "text": [
      "['test.csv', 'train.csv', 'sample_submission.csv']\n"
     ]
    }
   ],
   "source": [
    "import os\n",
    "import pandas as pd  \n",
    "from tensorflow.keras.utils import plot_model\n",
    "import tensorflow\n",
    "from tensorflow import keras \n",
    "from tensorflow.keras import Sequential\n",
    "from tensorflow.keras.layers import *\n",
    "from sklearn.model_selection import train_test_split\n",
    "\n",
    "\n"
   ]
  },
  {
   "cell_type": "code",
   "execution_count": null,
   "metadata": {},
   "outputs": [],
   "source": [
    "print(os.listdir(\"../input/digit-recognizer\"))\n",
    "\n",
    "\n",
    "train = pd.read_csv('../input/digit-recognizer/train.csv')\n",
    "test = pd.read_csv('../input/digit-recognizer/test.csv')"
   ]
  },
  {
   "cell_type": "code",
   "execution_count": 4,
   "metadata": {
    "ExecuteTime": {
     "end_time": "2020-12-16T04:34:43.152830Z",
     "start_time": "2020-12-16T04:34:42.957565Z"
    }
   },
   "outputs": [
    {
     "name": "stdout",
     "output_type": "stream",
     "text": [
      "[1 0 1 ... 7 6 9]\n"
     ]
    }
   ],
   "source": [
    "X = train.drop(\"label\",axis=1).values.reshape(-1,28,28,1)\n",
    "y = train[\"label\"].values\n",
    "print(y)\n",
    "X_test = test.values.reshape(-1,28,28,1)"
   ]
  },
  {
   "cell_type": "code",
   "execution_count": 5,
   "metadata": {
    "ExecuteTime": {
     "end_time": "2020-12-16T04:34:43.724159Z",
     "start_time": "2020-12-16T04:34:43.155736Z"
    }
   },
   "outputs": [
    {
     "name": "stdout",
     "output_type": "stream",
     "text": [
      "[[0. 1. 0. ... 0. 0. 0.]\n",
      " [1. 0. 0. ... 0. 0. 0.]\n",
      " [0. 1. 0. ... 0. 0. 0.]\n",
      " ...\n",
      " [0. 0. 0. ... 1. 0. 0.]\n",
      " [0. 0. 0. ... 0. 0. 0.]\n",
      " [0. 0. 0. ... 0. 0. 1.]] (42000, 10)\n"
     ]
    }
   ],
   "source": [
    "\n",
    "\n",
    "X = X.astype('float32')\n",
    "X_test = X_test.astype('float32')\n",
    "\n",
    "X = X/255.0\n",
    "X_test = X_test/255.0\n",
    "\n",
    "y = tensorflow.keras.utils.to_categorical(y,10)  # 把y变成 one-hot 向量\n",
    "print(y,y.shape)"
   ]
  },
  {
   "cell_type": "code",
   "execution_count": 6,
   "metadata": {
    "ExecuteTime": {
     "end_time": "2020-12-16T04:34:44.780459Z",
     "start_time": "2020-12-16T04:34:43.726690Z"
    }
   },
   "outputs": [
    {
     "name": "stdout",
     "output_type": "stream",
     "text": [
      "(33600, 28, 28, 1) (33600, 10) (8400, 28, 28, 1) (8400, 10)\n"
     ]
    }
   ],
   "source": [
    "X_train,X_val,y_train,y_val = train_test_split(X,y,test_size=0.2,random_state=1)\n",
    "\n",
    "print(f\"{X_train.shape} {y_train.shape} {X_val.shape} {y_val.shape}\")"
   ]
  },
  {
   "cell_type": "code",
   "execution_count": 12,
   "metadata": {
    "ExecuteTime": {
     "end_time": "2020-12-16T05:45:17.558433Z",
     "start_time": "2020-12-16T05:45:16.848234Z"
    }
   },
   "outputs": [],
   "source": [
    "\n",
    "num_of_models = 1\n",
    "model = [0]*num_of_models\n",
    "\n",
    "for j in range(num_of_models):\n",
    "    \n",
    "    model[j] = Sequential()\n",
    "    model[j].add(Conv2D(24,kernel_size = (3,3), padding = 'same', activation = 'relu', input_shape = (28,28,1)))\n",
    "    model[j].add(BatchNormalization())\n",
    "    model[j].add(Conv2D(24,kernel_size=(3,3),padding='same',activation='relu'))\n",
    "    model[j].add(BatchNormalization())\n",
    "    model[j].add(Conv2D(32,kernel_size=5,strides=2,padding='same',activation='relu'))\n",
    "    model[j].add(BatchNormalization())\n",
    "    model[j].add(Dropout(0.4))\n",
    "    \n",
    "    model[j].add(Conv2D(filters=64,kernel_size=(3,3),activation='relu'))\n",
    "    model[j].add(BatchNormalization())\n",
    "    model[j].add(Conv2D(filters=64,kernel_size=(3,3),activation='relu'))\n",
    "    model[j].add(BatchNormalization())\n",
    "    model[j].add(Conv2D(64,kernel_size=5,strides=2,padding='same',activation='relu'))\n",
    "    model[j].add(BatchNormalization())\n",
    "    model[j].add(Dropout(0.4))\n",
    "    \n",
    "    model[j].add(Conv2D(128,kernel_size=4,activation='relu'))\n",
    "    model[j].add(BatchNormalization())\n",
    "    model[j].add(Flatten())\n",
    "    model[j].add(Dropout(0.4))\n",
    "    model[j].add(Dense(10,activation='softmax'))\n",
    "    \n",
    "    model[j].compile(optimizer = 'adam', loss = 'categorical_crossentropy', metrics = ['accuracy'])\n",
    "    "
   ]
  },
  {
   "cell_type": "code",
   "execution_count": 15,
   "metadata": {
    "ExecuteTime": {
     "end_time": "2020-12-16T05:48:08.227800Z",
     "start_time": "2020-12-16T05:48:07.780630Z"
    }
   },
   "outputs": [
    {
     "name": "stdout",
     "output_type": "stream",
     "text": [
      "done\n"
     ]
    }
   ],
   "source": [
    "\n",
    "plot_model(model[0], to_file=r'./modle1.png', show_shapes=True,show_layer_names=True)\n",
    "print(\"done\")"
   ]
  },
  {
   "cell_type": "code",
   "execution_count": 16,
   "metadata": {
    "ExecuteTime": {
     "end_time": "2020-12-16T05:53:08.103105Z",
     "start_time": "2020-12-16T05:53:07.799238Z"
    }
   },
   "outputs": [],
   "source": [
    "from tensorflow.keras.preprocessing.image import ImageDataGenerator\n",
    "datagen = ImageDataGenerator(\n",
    "            rotation_range=10,\n",
    "            zoom_range=0.1,\n",
    "            width_shift_range=0.1,\n",
    "            height_shift_range=0.1\n",
    "            )\n",
    "datagen.fit(X)"
   ]
  },
  {
   "cell_type": "code",
   "execution_count": 29,
   "metadata": {
    "ExecuteTime": {
     "end_time": "2020-12-16T08:25:30.123800Z",
     "start_time": "2020-12-16T08:25:30.118454Z"
    }
   },
   "outputs": [
    {
     "name": "stdout",
     "output_type": "stream",
     "text": [
      "1\n"
     ]
    }
   ],
   "source": [
    "epochs = 20\n",
    "history = [0]*num_of_models\n",
    "print(num_of_models) # 模型个数，类似随机森林"
   ]
  },
  {
   "cell_type": "code",
   "execution_count": 32,
   "metadata": {
    "ExecuteTime": {
     "end_time": "2020-12-16T08:58:54.751928Z",
     "start_time": "2020-12-16T08:25:54.618669Z"
    }
   },
   "outputs": [
    {
     "name": "stdout",
     "output_type": "stream",
     "text": [
      "Epoch 1/20\n",
      "591/591 [==============================] - 93s 157ms/step - loss: 0.0653 - acc: 0.9801 - val_loss: 0.0448 - val_acc: 0.9874\n",
      "Epoch 2/20\n",
      "591/591 [==============================] - 97s 164ms/step - loss: 0.0571 - acc: 0.9826 - val_loss: 0.0355 - val_acc: 0.9898\n",
      "Epoch 3/20\n",
      "591/591 [==============================] - 91s 154ms/step - loss: 0.0532 - acc: 0.9837 - val_loss: 0.0419 - val_acc: 0.9902\n",
      "Epoch 4/20\n",
      "591/591 [==============================] - 97s 163ms/step - loss: 0.0513 - acc: 0.9838 - val_loss: 0.0454 - val_acc: 0.9898\n",
      "Epoch 5/20\n",
      "591/591 [==============================] - 94s 159ms/step - loss: 0.0453 - acc: 0.9861 - val_loss: 0.0456 - val_acc: 0.9893\n",
      "Epoch 6/20\n",
      "591/591 [==============================] - 92s 155ms/step - loss: 0.0452 - acc: 0.9857 - val_loss: 0.0305 - val_acc: 0.9924\n",
      "Epoch 7/20\n",
      "591/591 [==============================] - 96s 163ms/step - loss: 0.0425 - acc: 0.9872 - val_loss: 0.0273 - val_acc: 0.9917\n",
      "Epoch 8/20\n",
      "591/591 [==============================] - 98s 166ms/step - loss: 0.0436 - acc: 0.9863 - val_loss: 0.0251 - val_acc: 0.9929\n",
      "Epoch 9/20\n",
      "591/591 [==============================] - 100s 169ms/step - loss: 0.0377 - acc: 0.9884 - val_loss: 0.0372 - val_acc: 0.9926\n",
      "Epoch 10/20\n",
      "591/591 [==============================] - 97s 164ms/step - loss: 0.0375 - acc: 0.9887 - val_loss: 0.0333 - val_acc: 0.9924\n",
      "Epoch 11/20\n",
      "591/591 [==============================] - 110s 187ms/step - loss: 0.0364 - acc: 0.9885 - val_loss: 0.0257 - val_acc: 0.9943\n",
      "Epoch 12/20\n",
      "591/591 [==============================] - 97s 165ms/step - loss: 0.0342 - acc: 0.9900 - val_loss: 0.0373 - val_acc: 0.9895\n",
      "Epoch 13/20\n",
      "591/591 [==============================] - 102s 173ms/step - loss: 0.0341 - acc: 0.9902 - val_loss: 0.0259 - val_acc: 0.9943\n",
      "Epoch 14/20\n",
      "591/591 [==============================] - 104s 176ms/step - loss: 0.0323 - acc: 0.9903 - val_loss: 0.0271 - val_acc: 0.9914\n",
      "Epoch 15/20\n",
      "591/591 [==============================] - 100s 170ms/step - loss: 0.0321 - acc: 0.9899 - val_loss: 0.0294 - val_acc: 0.9936\n",
      "Epoch 16/20\n",
      "591/591 [==============================] - 100s 168ms/step - loss: 0.0310 - acc: 0.9908 - val_loss: 0.0245 - val_acc: 0.9938\n",
      "Epoch 17/20\n",
      "591/591 [==============================] - 102s 173ms/step - loss: 0.0285 - acc: 0.9911 - val_loss: 0.0280 - val_acc: 0.9936\n",
      "Epoch 18/20\n",
      "591/591 [==============================] - 102s 173ms/step - loss: 0.0282 - acc: 0.9911 - val_loss: 0.0265 - val_acc: 0.9919\n",
      "Epoch 19/20\n",
      "591/591 [==============================] - 102s 173ms/step - loss: 0.0274 - acc: 0.9916 - val_loss: 0.0256 - val_acc: 0.9945\n",
      "Epoch 20/20\n",
      "591/591 [==============================] - 105s 177ms/step - loss: 0.0266 - acc: 0.9918 - val_loss: 0.0275 - val_acc: 0.9938\n"
     ]
    }
   ],
   "source": [
    "for j in range(num_of_models):\n",
    "    X_train,X_val,y_train,y_val = train_test_split(X,y,test_size=0.1,random_state=7)\n",
    "    history[j] = model[j].fit_generator(datagen.flow(X_train,y_train,batch_size=64),\n",
    "                                       epochs=epochs,validation_data=(X_val,y_val),\n",
    "                                       verbose=1)"
   ]
  },
  {
   "cell_type": "markdown",
   "metadata": {},
   "source": [
    "# Visualization:"
   ]
  },
  {
   "cell_type": "code",
   "execution_count": 36,
   "metadata": {
    "ExecuteTime": {
     "end_time": "2020-12-16T09:03:36.206108Z",
     "start_time": "2020-12-16T09:03:35.631332Z"
    }
   },
   "outputs": [
    {
     "data": {
      "image/png": "[encoded data removed]",
      "text/plain": [
       "<Figure size 432x288 with 2 Axes>"
      ]
     },
     "metadata": {
      "needs_background": "light"
     },
     "output_type": "display_data"
    }
   ],
   "source": [
    "import matplotlib.pyplot as plt\n",
    "#history = history[0]\n",
    "\n",
    "fig, ax = plt.subplots(2,1)\n",
    "ax[0].plot(history.history['loss'], color='b', label=\"Training loss\")\n",
    "ax[0].plot(history.history['val_loss'], color='r', label=\"validation loss\",axes =ax[0])\n",
    "legend = ax[0].legend(loc='best', shadow=True)\n",
    "\n",
    "ax[1].plot(history.history['acc'], color='b', label=\"Training accuracy\")\n",
    "ax[1].plot(history.history['val_acc'], color='r',label=\"Validation accuracy\")\n",
    "legend = ax[1].legend(loc='best', shadow=True)\n",
    "\n",
    "plt.savefig('./train_curve.jpg',dpi=400,bbox_inches = 'tight')"
   ]
  },
  {
   "cell_type": "markdown",
   "metadata": {},
   "source": [
    "# save the result:"
   ]
  },
  {
   "cell_type": "code",
   "execution_count": 19,
   "metadata": {
    "ExecuteTime": {
     "end_time": "2020-12-16T08:08:00.847663Z",
     "start_time": "2020-12-16T08:08:00.826370Z"
    }
   },
   "outputs": [
    {
     "ename": "NameError",
     "evalue": "name 'nn' is not defined",
     "output_type": "error",
     "traceback": [
      "\u001b[0;31m---------------------------------------------------------------------------\u001b[0m",
      "\u001b[0;31mNameError\u001b[0m                                 Traceback (most recent call last)",
      "\u001b[0;32m/opt/anaconda3/envs/tensorflow/lib/python3.7/site-packages/tensorflow/python/keras/api/_v1/keras/layers/__init__.py\u001b[0m in \u001b[0;36m<module>\u001b[0;34m\u001b[0m\n\u001b[1;32m      2\u001b[0m \u001b[0;32mimport\u001b[0m \u001b[0mpandas\u001b[0m \u001b[0;32mas\u001b[0m \u001b[0mpd\u001b[0m\u001b[0;34m\u001b[0m\u001b[0;34m\u001b[0m\u001b[0m\n\u001b[1;32m      3\u001b[0m \u001b[0mresults\u001b[0m \u001b[0;34m=\u001b[0m \u001b[0mnp\u001b[0m\u001b[0;34m.\u001b[0m\u001b[0mzeros\u001b[0m\u001b[0;34m(\u001b[0m\u001b[0;34m(\u001b[0m\u001b[0mX_test\u001b[0m\u001b[0;34m.\u001b[0m\u001b[0mshape\u001b[0m\u001b[0;34m[\u001b[0m\u001b[0;36m0\u001b[0m\u001b[0;34m]\u001b[0m\u001b[0;34m,\u001b[0m\u001b[0;36m10\u001b[0m\u001b[0;34m)\u001b[0m\u001b[0;34m)\u001b[0m\u001b[0;34m\u001b[0m\u001b[0;34m\u001b[0m\u001b[0m\n\u001b[0;32m----> 4\u001b[0;31m \u001b[0;32mfor\u001b[0m \u001b[0mj\u001b[0m \u001b[0;32min\u001b[0m \u001b[0mrange\u001b[0m\u001b[0;34m(\u001b[0m\u001b[0mnn\u001b[0m\u001b[0;34m)\u001b[0m\u001b[0;34m:\u001b[0m\u001b[0;34m\u001b[0m\u001b[0;34m\u001b[0m\u001b[0m\n\u001b[0m\u001b[1;32m      5\u001b[0m     \u001b[0mresults\u001b[0m \u001b[0;34m=\u001b[0m \u001b[0mresults\u001b[0m\u001b[0;34m+\u001b[0m\u001b[0mmodel\u001b[0m\u001b[0;34m[\u001b[0m\u001b[0mj\u001b[0m\u001b[0;34m]\u001b[0m\u001b[0;34m.\u001b[0m\u001b[0mpredict\u001b[0m\u001b[0;34m(\u001b[0m\u001b[0mX_test\u001b[0m\u001b[0;34m)\u001b[0m\u001b[0;34m\u001b[0m\u001b[0;34m\u001b[0m\u001b[0m\n\u001b[1;32m      6\u001b[0m \u001b[0mresults\u001b[0m \u001b[0;34m=\u001b[0m \u001b[0mnp\u001b[0m\u001b[0;34m.\u001b[0m\u001b[0margmax\u001b[0m\u001b[0;34m(\u001b[0m\u001b[0mresults\u001b[0m\u001b[0;34m,\u001b[0m\u001b[0maxis\u001b[0m\u001b[0;34m=\u001b[0m\u001b[0;36m1\u001b[0m\u001b[0;34m)\u001b[0m\u001b[0;34m\u001b[0m\u001b[0;34m\u001b[0m\u001b[0m\n",
      "\u001b[0;31mNameError\u001b[0m: name 'nn' is not defined"
     ]
    }
   ],
   "source": [
    "import numpy as np\n",
    "import pandas as pd\n",
    "results = np.zeros((X_test.shape[0],10))\n",
    "for j in range(num_of_models):\n",
    "    results = results+model[j].predict(X_test) \n",
    "results = np.argmax(results,axis=1) # choose the max one\n",
    "results = pd.Series(results,name=\"Label\")\n",
    "submission = pd.concat([pd.Series(range(1,28001),name='ImageId'),results],axis=1)\n",
    "submission.to_csv('ENSEMBLE.csv',index=False)"
   ]
  },
  {
   "cell_type": "markdown",
   "metadata": {},
   "source": [
    "# Random Forest:"
   ]
  },
  {
   "cell_type": "code",
   "execution_count": 1,
   "metadata": {
    "ExecuteTime": {
     "end_time": "2020-12-17T04:43:20.778612Z",
     "start_time": "2020-12-17T04:43:20.563277Z"
    }
   },
   "outputs": [],
   "source": [
    "import pandas as pd\n",
    "from sklearn.ensemble import RandomForestClassifier\n",
    "from sklearn import datasets"
   ]
  },
  {
   "cell_type": "code",
   "execution_count": null,
   "metadata": {},
   "outputs": [],
   "source": [
    "trainPath='./input/digit-recognizer/train.csv'\n",
    "testPath='./input/digit-recognizer/test.csv'\n",
    "\n",
    "rawData=pd.read_csv(trainPath).values\n",
    "trainData=rawData[:,1:]\n",
    "trainLabel=rawData[:,0]\n",
    "testData= pd.read_csv(testPath).values\n",
    "X=trainData\n",
    "Y=trainLabel\n",
    " \n",
    "clf=RandomForestClassifier(n_estimators=100)\n",
    "clf=clf.fit(X,Y)\n",
    "testLabel=clf.predict(testData)\n",
    " \n",
    "#训练结果保存\n",
    "df=pd.DataFrame(testLabel,columns=['label'])\n",
    "df.to_csv('testLabel_rf.csv',header=True,index=False)"
   ]
  }
 ],
 "metadata": {
  "kernelspec": {
   "display_name": "Python 3",
   "language": "python",
   "name": "python3"
  },
  "language_info": {
   "codemirror_mode": {
    "name": "ipython",
    "version": 3
   },
   "file_extension": ".py",
   "mimetype": "text/x-python",
   "name": "python",
   "nbconvert_exporter": "python",
   "pygments_lexer": "ipython3",
   "version": "3.7.8"
  },
  "toc": {
   "base_numbering": 1,
   "nav_menu": {},
   "number_sections": true,
   "sideBar": true,
   "skip_h1_title": false,
   "title_cell": "Table of Contents",
   "title_sidebar": "Contents",
   "toc_cell": false,
   "toc_position": {},
   "toc_section_display": true,
   "toc_window_display": false
  }
 },
 "nbformat": 4,
 "nbformat_minor": 4
}
